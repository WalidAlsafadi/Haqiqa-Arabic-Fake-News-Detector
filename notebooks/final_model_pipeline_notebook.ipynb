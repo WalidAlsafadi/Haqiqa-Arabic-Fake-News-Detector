{
  "cells": [
    {
      "cell_type": "markdown",
      "id": "213a5c90",
      "metadata": {
        "id": "213a5c90"
      },
      "source": [
        "# Palestine Fake News Detector - Final Model Pipeline\n",
        "\n",
        "This notebook presents the full machine learning pipeline used for detecting fake news in Arabic texts related to Palestine. It includes all processing steps **after EDA**."
      ]
    },
    {
      "cell_type": "markdown",
      "id": "953da732",
      "metadata": {
        "id": "953da732"
      },
      "source": [
        "## 1. Import Libraries"
      ]
    },
    {
      "cell_type": "code",
      "execution_count": 1,
      "id": "dWCFBGQAfoIV",
      "metadata": {
        "id": "dWCFBGQAfoIV"
      },
      "outputs": [],
      "source": [
        "#pip install Arabic-Stopwords"
      ]
    },
    {
      "cell_type": "code",
      "execution_count": 2,
      "id": "ef88f317",
      "metadata": {
        "colab": {
          "base_uri": "https://localhost:8080/"
        },
        "id": "ef88f317",
        "outputId": "5f97dc40-dd04-4513-9d07-868d83454ac8"
      },
      "outputs": [
        {
          "name": "stderr",
          "output_type": "stream",
          "text": [
            "[nltk_data] Downloading package punkt_tab to /root/nltk_data...\n",
            "[nltk_data]   Unzipping tokenizers/punkt_tab.zip.\n"
          ]
        },
        {
          "data": {
            "text/plain": [
              "True"
            ]
          },
          "execution_count": 2,
          "metadata": {},
          "output_type": "execute_result"
        }
      ],
      "source": [
        "import numpy as np\n",
        "import matplotlib.pyplot as plt\n",
        "from sklearn.model_selection import train_test_split, cross_val_score\n",
        "from sklearn.feature_extraction.text import TfidfVectorizer\n",
        "from sklearn.linear_model import LogisticRegression\n",
        "from sklearn.naive_bayes import MultinomialNB\n",
        "from sklearn.ensemble import RandomForestClassifier\n",
        "from xgboost import XGBClassifier\n",
        "from sklearn.pipeline import Pipeline\n",
        "from sklearn.metrics import (\n",
        "    accuracy_score, f1_score, classification_report,\n",
        "    confusion_matrix, roc_curve, auc, precision_score, recall_score,\n",
        "    precision_recall_curve, average_precision_score\n",
        ")\n",
        "import seaborn as sns\n",
        "\n",
        "\n",
        "import re\n",
        "import pandas as pd\n",
        "from sklearn.preprocessing import LabelEncoder\n",
        "from nltk.tokenize import word_tokenize\n",
        "from arabicstopwords.arabicstopwords import stopwords_list\n",
        "\n",
        "ARABIC_STOPWORDS = set(stopwords_list())\n",
        "\n",
        "import nltk\n",
        "nltk.download(\"punkt_tab\")"
      ]
    },
    {
      "cell_type": "markdown",
      "id": "3f0aec76",
      "metadata": {
        "id": "3f0aec76"
      },
      "source": [
        "## 2. Load and Clean Data"
      ]
    },
    {
      "cell_type": "code",
      "execution_count": null,
      "id": "040608a2",
      "metadata": {
        "id": "040608a2"
      },
      "outputs": [],
      "source": [
        "df = pd.read_csv(\"../data/raw/original_news_data.csv\", encoding='utf-8')"
      ]
    },
    {
      "cell_type": "code",
      "execution_count": 4,
      "id": "vZXekUp7egTs",
      "metadata": {
        "id": "vZXekUp7egTs"
      },
      "outputs": [],
      "source": [
        "def normalize_arabic(text):\n",
        "    text = re.sub(r\"[إأآا]\", \"ا\", text)\n",
        "    text = re.sub(r\"ى\", \"ي\", text)\n",
        "    text = re.sub(r\"ؤ\", \"ء\", text)\n",
        "    text = re.sub(r\"ئ\", \"ء\", text)\n",
        "    text = re.sub(r\"ة\", \"ه\", text)\n",
        "    return text\n",
        "\n",
        "def remove_diacritics(text):\n",
        "    return re.sub(r'[\\u064B-\\u0652]', '', text)\n",
        "\n",
        "def remove_non_arabic(text):\n",
        "    return re.sub(r\"[^\\u0600-\\u06FF\\s]\", \" \", text)\n",
        "\n",
        "def clean_arabic_text(text):\n",
        "    if pd.isna(text): return \"\"\n",
        "    text = text.lower()\n",
        "    text = remove_diacritics(text)\n",
        "    text = normalize_arabic(text)\n",
        "    text = remove_non_arabic(text)\n",
        "    text = re.sub(r\"\\s+\", \" \", text).strip()\n",
        "    tokens = word_tokenize(text)\n",
        "    tokens = [t for t in tokens if t not in ARABIC_STOPWORDS and len(t) > 1]\n",
        "    return \" \".join(tokens)\n",
        "\n",
        "def clean_arabic_text_minimal(text):\n",
        "    if pd.isna(text): return \"\"\n",
        "    text = text.lower()\n",
        "    text = normalize_arabic(text)\n",
        "    text = remove_non_arabic(text)\n",
        "    text = re.sub(r\"\\s+\", \" \", text).strip()\n",
        "    return text\n",
        "\n",
        "def remove_outliers_iqr(df: pd.DataFrame, col: str = 'content_length') -> pd.DataFrame:\n",
        "    Q1 = df[col].quantile(0.25)\n",
        "    Q3 = df[col].quantile(0.75)\n",
        "    IQR = Q3 - Q1\n",
        "    lower = Q1 - 1.5 * IQR\n",
        "    upper = Q3 + 1.5 * IQR\n",
        "    return df[(df[col] >= lower) & (df[col] <= upper)]\n",
        "\n",
        "def apply_all_cleaning(df, remove_outliers: bool = True):\n",
        "    print(\"Standardizing columns and parsing dates...\")\n",
        "    df = df.rename(columns={\"Id\": \"id\", \"News content\": \"content\", \"Label\": \"label\"})\n",
        "    df['date'] = pd.to_datetime(df['date'])\n",
        "    df['label'] = df['label'].str.lower()\n",
        "\n",
        "    print(\"Removing duplicates and filtering by date...\")\n",
        "    df = df.drop_duplicates(subset=['content'])\n",
        "    df = df.drop_duplicates(subset=['title'])\n",
        "    df = df[df['date'] >= '2023-01-01']\n",
        "\n",
        "    print(\"Grouping low-frequency platforms...\")\n",
        "    df['platform_grouped'] = df['platform'].apply(\n",
        "        lambda x: x if df['platform'].value_counts()[x] >= 30 else 'Other')\n",
        "    df = df.drop(columns=['id', 'platform'])\n",
        "\n",
        "    print(\"Applying aggressive Arabic text cleaning...\")\n",
        "    df[\"title_clean_agg\"] = df[\"title\"].astype(str).apply(clean_arabic_text)\n",
        "    df[\"content_clean_agg\"] = df[\"content\"].astype(str).apply(clean_arabic_text)\n",
        "    df[\"text_agg\"] = df[\"title_clean_agg\"] + \" \" + df[\"content_clean_agg\"]\n",
        "\n",
        "    print(\"Applying minimal Arabic text cleaning...\")\n",
        "    df[\"title_clean_min\"] = df[\"title\"].astype(str).apply(clean_arabic_text_minimal)\n",
        "    df[\"content_clean_min\"] = df[\"content\"].astype(str).apply(clean_arabic_text_minimal)\n",
        "    df[\"text_min\"] = df[\"title_clean_min\"] + \" \" + df[\"content_clean_min\"]\n",
        "\n",
        "    print(\"Generating feature columns...\")\n",
        "    df[\"title_length\"] = df[\"title\"].apply(lambda x: len(str(x).split()))\n",
        "    df[\"content_length\"] = df[\"content\"].apply(lambda x: len(str(x).split()))\n",
        "\n",
        "    if remove_outliers:\n",
        "        print(\"Removing outliers using IQR method...\")\n",
        "        original_len = len(df)\n",
        "        df = remove_outliers_iqr(df, col=\"content_length\")\n",
        "        print(f\"Removed {original_len - len(df)} outliers\")\n",
        "\n",
        "    print(\"Encoding labels and platforms...\")\n",
        "    df['label'] = df['label'].map({'real': 0, 'fake': 1})\n",
        "    df['platform_encoded'] = LabelEncoder().fit_transform(df['platform_grouped'])\n",
        "\n",
        "    print(\"Data cleaning completed.\")\n",
        "    return df"
      ]
    },
    {
      "cell_type": "code",
      "execution_count": 5,
      "id": "bwIxb-KrekhU",
      "metadata": {
        "colab": {
          "base_uri": "https://localhost:8080/"
        },
        "id": "bwIxb-KrekhU",
        "outputId": "a97a3f84-d99f-445f-8f6e-6fb911e1c53e"
      },
      "outputs": [
        {
          "name": "stdout",
          "output_type": "stream",
          "text": [
            "Standardizing columns and parsing dates...\n",
            "Removing duplicates and filtering by date...\n",
            "Grouping low-frequency platforms...\n",
            "Applying aggressive Arabic text cleaning...\n",
            "Applying minimal Arabic text cleaning...\n",
            "Generating feature columns...\n",
            "Removing outliers using IQR method...\n",
            "Removed 291 outliers\n",
            "Encoding labels and platforms...\n",
            "Data cleaning completed.\n"
          ]
        }
      ],
      "source": [
        "df = apply_all_cleaning(df, remove_outliers=True)\n",
        "df_min = df[[\"text_min\", \"label\"]]\n",
        "df_agg = df[[\"text_agg\", \"label\"]]"
      ]
    },
    {
      "cell_type": "markdown",
      "id": "6597e540",
      "metadata": {
        "id": "6597e540"
      },
      "source": [
        "## 3. Train/Test Split"
      ]
    },
    {
      "cell_type": "markdown",
      "id": "25cc4ebe",
      "metadata": {
        "id": "25cc4ebe"
      },
      "source": [
        "We use 80/10/10 split (train/val/test) to ensure robust training and fair evaluation."
      ]
    },
    {
      "cell_type": "code",
      "execution_count": 6,
      "id": "0d009910",
      "metadata": {
        "id": "0d009910"
      },
      "outputs": [],
      "source": [
        "X = df_min[\"text_min\"]\n",
        "y = df_min[\"label\"]\n",
        "\n",
        "# Stratified split: 80% train+val, 20% test\n",
        "X_temp, X_test, y_temp, y_test = train_test_split(X, y, test_size=0.2, stratify=y, random_state=42)\n",
        "X_train, X_val, y_train, y_val = train_test_split(X_temp, y_temp, test_size=0.125, stratify=y_temp, random_state=42)\n",
        "\n",
        "# Combine train+val for final model\n",
        "X_final = pd.concat([X_train, X_val])\n",
        "y_final = pd.concat([y_train, y_val])\n"
      ]
    },
    {
      "cell_type": "markdown",
      "id": "8d1e5a1f",
      "metadata": {
        "id": "8d1e5a1f"
      },
      "source": [
        "## 4. Define TF-IDF Vectorizer"
      ]
    },
    {
      "cell_type": "code",
      "execution_count": 7,
      "id": "b2d098b2",
      "metadata": {
        "id": "b2d098b2"
      },
      "outputs": [],
      "source": [
        "tfidf = TfidfVectorizer(max_features=5000, ngram_range=(1, 2))\n"
      ]
    },
    {
      "cell_type": "markdown",
      "id": "b1f4993e",
      "metadata": {
        "id": "b1f4993e"
      },
      "source": [
        "## 5. Define Pipelines"
      ]
    },
    {
      "cell_type": "code",
      "execution_count": 8,
      "id": "306ec815",
      "metadata": {
        "id": "306ec815"
      },
      "outputs": [],
      "source": [
        "pipelines = {\n",
        "    \"LogisticRegression\": Pipeline([\n",
        "        (\"tfidf\", tfidf),\n",
        "        (\"clf\", LogisticRegression(max_iter=100, class_weight=\"balanced\", random_state=42))\n",
        "    ]),\n",
        "    \"MultinomialNB\": Pipeline([\n",
        "        (\"tfidf\", tfidf),\n",
        "        (\"clf\", MultinomialNB())\n",
        "    ]),\n",
        "    \"RandomForest\": Pipeline([\n",
        "        (\"tfidf\", tfidf),\n",
        "        (\"clf\", RandomForestClassifier(n_estimators=100, class_weight=\"balanced\", random_state=42))\n",
        "    ]),\n",
        "    \"XGBoost\": Pipeline([\n",
        "        (\"tfidf\", tfidf),\n",
        "        (\"clf\", XGBClassifier(n_estimators=100, eval_metric=\"logloss\", scale_pos_weight=1.8, random_state=42))\n",
        "    ])\n",
        "}\n"
      ]
    },
    {
      "cell_type": "markdown",
      "id": "359c86de",
      "metadata": {
        "id": "359c86de"
      },
      "source": [
        "## 6. Evaluate Models"
      ]
    },
    {
      "cell_type": "code",
      "execution_count": 9,
      "id": "538a1666",
      "metadata": {
        "colab": {
          "base_uri": "https://localhost:8080/",
          "height": 175
        },
        "id": "538a1666",
        "outputId": "7ab11017-8598-4a28-a511-3de00d04a0f4"
      },
      "outputs": [
        {
          "data": {
            "application/vnd.google.colaboratory.intrinsic+json": {
              "summary": "{\n  \"name\": \"pd\",\n  \"rows\": 4,\n  \"fields\": [\n    {\n      \"column\": \"f1_mean\",\n      \"properties\": {\n        \"dtype\": \"number\",\n        \"std\": 0.03828493434221591,\n        \"min\": 0.7597094891536088,\n        \"max\": 0.839929905000177,\n        \"num_unique_values\": 4,\n        \"samples\": [\n          0.7597094891536088,\n          0.8340383911637208,\n          0.8342892716523453\n        ],\n        \"semantic_type\": \"\",\n        \"description\": \"\"\n      }\n    },\n    {\n      \"column\": \"f1_std\",\n      \"properties\": {\n        \"dtype\": \"number\",\n        \"std\": 0.007491972506577425,\n        \"min\": 0.014484232826692799,\n        \"max\": 0.031222671778251828,\n        \"num_unique_values\": 4,\n        \"samples\": [\n          0.031222671778251828,\n          0.014484232826692799,\n          0.02594666150011485\n        ],\n        \"semantic_type\": \"\",\n        \"description\": \"\"\n      }\n    }\n  ]\n}",
              "type": "dataframe"
            },
            "text/html": [
              "\n",
              "  <div id=\"df-2a1edd51-f748-4cef-b731-3b3389a15188\" class=\"colab-df-container\">\n",
              "    <div>\n",
              "<style scoped>\n",
              "    .dataframe tbody tr th:only-of-type {\n",
              "        vertical-align: middle;\n",
              "    }\n",
              "\n",
              "    .dataframe tbody tr th {\n",
              "        vertical-align: top;\n",
              "    }\n",
              "\n",
              "    .dataframe thead th {\n",
              "        text-align: right;\n",
              "    }\n",
              "</style>\n",
              "<table border=\"1\" class=\"dataframe\">\n",
              "  <thead>\n",
              "    <tr style=\"text-align: right;\">\n",
              "      <th></th>\n",
              "      <th>f1_mean</th>\n",
              "      <th>f1_std</th>\n",
              "    </tr>\n",
              "  </thead>\n",
              "  <tbody>\n",
              "    <tr>\n",
              "      <th>LogisticRegression</th>\n",
              "      <td>0.834289</td>\n",
              "      <td>0.025947</td>\n",
              "    </tr>\n",
              "    <tr>\n",
              "      <th>MultinomialNB</th>\n",
              "      <td>0.759709</td>\n",
              "      <td>0.031223</td>\n",
              "    </tr>\n",
              "    <tr>\n",
              "      <th>RandomForest</th>\n",
              "      <td>0.839930</td>\n",
              "      <td>0.018478</td>\n",
              "    </tr>\n",
              "    <tr>\n",
              "      <th>XGBoost</th>\n",
              "      <td>0.834038</td>\n",
              "      <td>0.014484</td>\n",
              "    </tr>\n",
              "  </tbody>\n",
              "</table>\n",
              "</div>\n",
              "    <div class=\"colab-df-buttons\">\n",
              "\n",
              "  <div class=\"colab-df-container\">\n",
              "    <button class=\"colab-df-convert\" onclick=\"convertToInteractive('df-2a1edd51-f748-4cef-b731-3b3389a15188')\"\n",
              "            title=\"Convert this dataframe to an interactive table.\"\n",
              "            style=\"display:none;\">\n",
              "\n",
              "  <svg xmlns=\"http://www.w3.org/2000/svg\" height=\"24px\" viewBox=\"0 -960 960 960\">\n",
              "    <path d=\"M120-120v-720h720v720H120Zm60-500h600v-160H180v160Zm220 220h160v-160H400v160Zm0 220h160v-160H400v160ZM180-400h160v-160H180v160Zm440 0h160v-160H620v160ZM180-180h160v-160H180v160Zm440 0h160v-160H620v160Z\"/>\n",
              "  </svg>\n",
              "    </button>\n",
              "\n",
              "  <style>\n",
              "    .colab-df-container {\n",
              "      display:flex;\n",
              "      gap: 12px;\n",
              "    }\n",
              "\n",
              "    .colab-df-convert {\n",
              "      background-color: #E8F0FE;\n",
              "      border: none;\n",
              "      border-radius: 50%;\n",
              "      cursor: pointer;\n",
              "      display: none;\n",
              "      fill: #1967D2;\n",
              "      height: 32px;\n",
              "      padding: 0 0 0 0;\n",
              "      width: 32px;\n",
              "    }\n",
              "\n",
              "    .colab-df-convert:hover {\n",
              "      background-color: #E2EBFA;\n",
              "      box-shadow: 0px 1px 2px rgba(60, 64, 67, 0.3), 0px 1px 3px 1px rgba(60, 64, 67, 0.15);\n",
              "      fill: #174EA6;\n",
              "    }\n",
              "\n",
              "    .colab-df-buttons div {\n",
              "      margin-bottom: 4px;\n",
              "    }\n",
              "\n",
              "    [theme=dark] .colab-df-convert {\n",
              "      background-color: #3B4455;\n",
              "      fill: #D2E3FC;\n",
              "    }\n",
              "\n",
              "    [theme=dark] .colab-df-convert:hover {\n",
              "      background-color: #434B5C;\n",
              "      box-shadow: 0px 1px 3px 1px rgba(0, 0, 0, 0.15);\n",
              "      filter: drop-shadow(0px 1px 2px rgba(0, 0, 0, 0.3));\n",
              "      fill: #FFFFFF;\n",
              "    }\n",
              "  </style>\n",
              "\n",
              "    <script>\n",
              "      const buttonEl =\n",
              "        document.querySelector('#df-2a1edd51-f748-4cef-b731-3b3389a15188 button.colab-df-convert');\n",
              "      buttonEl.style.display =\n",
              "        google.colab.kernel.accessAllowed ? 'block' : 'none';\n",
              "\n",
              "      async function convertToInteractive(key) {\n",
              "        const element = document.querySelector('#df-2a1edd51-f748-4cef-b731-3b3389a15188');\n",
              "        const dataTable =\n",
              "          await google.colab.kernel.invokeFunction('convertToInteractive',\n",
              "                                                    [key], {});\n",
              "        if (!dataTable) return;\n",
              "\n",
              "        const docLinkHtml = 'Like what you see? Visit the ' +\n",
              "          '<a target=\"_blank\" href=https://colab.research.google.com/notebooks/data_table.ipynb>data table notebook</a>'\n",
              "          + ' to learn more about interactive tables.';\n",
              "        element.innerHTML = '';\n",
              "        dataTable['output_type'] = 'display_data';\n",
              "        await google.colab.output.renderOutput(dataTable, element);\n",
              "        const docLink = document.createElement('div');\n",
              "        docLink.innerHTML = docLinkHtml;\n",
              "        element.appendChild(docLink);\n",
              "      }\n",
              "    </script>\n",
              "  </div>\n",
              "\n",
              "\n",
              "    <div id=\"df-717b42b0-b40e-42b4-8c87-530f6888d522\">\n",
              "      <button class=\"colab-df-quickchart\" onclick=\"quickchart('df-717b42b0-b40e-42b4-8c87-530f6888d522')\"\n",
              "                title=\"Suggest charts\"\n",
              "                style=\"display:none;\">\n",
              "\n",
              "<svg xmlns=\"http://www.w3.org/2000/svg\" height=\"24px\"viewBox=\"0 0 24 24\"\n",
              "     width=\"24px\">\n",
              "    <g>\n",
              "        <path d=\"M19 3H5c-1.1 0-2 .9-2 2v14c0 1.1.9 2 2 2h14c1.1 0 2-.9 2-2V5c0-1.1-.9-2-2-2zM9 17H7v-7h2v7zm4 0h-2V7h2v10zm4 0h-2v-4h2v4z\"/>\n",
              "    </g>\n",
              "</svg>\n",
              "      </button>\n",
              "\n",
              "<style>\n",
              "  .colab-df-quickchart {\n",
              "      --bg-color: #E8F0FE;\n",
              "      --fill-color: #1967D2;\n",
              "      --hover-bg-color: #E2EBFA;\n",
              "      --hover-fill-color: #174EA6;\n",
              "      --disabled-fill-color: #AAA;\n",
              "      --disabled-bg-color: #DDD;\n",
              "  }\n",
              "\n",
              "  [theme=dark] .colab-df-quickchart {\n",
              "      --bg-color: #3B4455;\n",
              "      --fill-color: #D2E3FC;\n",
              "      --hover-bg-color: #434B5C;\n",
              "      --hover-fill-color: #FFFFFF;\n",
              "      --disabled-bg-color: #3B4455;\n",
              "      --disabled-fill-color: #666;\n",
              "  }\n",
              "\n",
              "  .colab-df-quickchart {\n",
              "    background-color: var(--bg-color);\n",
              "    border: none;\n",
              "    border-radius: 50%;\n",
              "    cursor: pointer;\n",
              "    display: none;\n",
              "    fill: var(--fill-color);\n",
              "    height: 32px;\n",
              "    padding: 0;\n",
              "    width: 32px;\n",
              "  }\n",
              "\n",
              "  .colab-df-quickchart:hover {\n",
              "    background-color: var(--hover-bg-color);\n",
              "    box-shadow: 0 1px 2px rgba(60, 64, 67, 0.3), 0 1px 3px 1px rgba(60, 64, 67, 0.15);\n",
              "    fill: var(--button-hover-fill-color);\n",
              "  }\n",
              "\n",
              "  .colab-df-quickchart-complete:disabled,\n",
              "  .colab-df-quickchart-complete:disabled:hover {\n",
              "    background-color: var(--disabled-bg-color);\n",
              "    fill: var(--disabled-fill-color);\n",
              "    box-shadow: none;\n",
              "  }\n",
              "\n",
              "  .colab-df-spinner {\n",
              "    border: 2px solid var(--fill-color);\n",
              "    border-color: transparent;\n",
              "    border-bottom-color: var(--fill-color);\n",
              "    animation:\n",
              "      spin 1s steps(1) infinite;\n",
              "  }\n",
              "\n",
              "  @keyframes spin {\n",
              "    0% {\n",
              "      border-color: transparent;\n",
              "      border-bottom-color: var(--fill-color);\n",
              "      border-left-color: var(--fill-color);\n",
              "    }\n",
              "    20% {\n",
              "      border-color: transparent;\n",
              "      border-left-color: var(--fill-color);\n",
              "      border-top-color: var(--fill-color);\n",
              "    }\n",
              "    30% {\n",
              "      border-color: transparent;\n",
              "      border-left-color: var(--fill-color);\n",
              "      border-top-color: var(--fill-color);\n",
              "      border-right-color: var(--fill-color);\n",
              "    }\n",
              "    40% {\n",
              "      border-color: transparent;\n",
              "      border-right-color: var(--fill-color);\n",
              "      border-top-color: var(--fill-color);\n",
              "    }\n",
              "    60% {\n",
              "      border-color: transparent;\n",
              "      border-right-color: var(--fill-color);\n",
              "    }\n",
              "    80% {\n",
              "      border-color: transparent;\n",
              "      border-right-color: var(--fill-color);\n",
              "      border-bottom-color: var(--fill-color);\n",
              "    }\n",
              "    90% {\n",
              "      border-color: transparent;\n",
              "      border-bottom-color: var(--fill-color);\n",
              "    }\n",
              "  }\n",
              "</style>\n",
              "\n",
              "      <script>\n",
              "        async function quickchart(key) {\n",
              "          const quickchartButtonEl =\n",
              "            document.querySelector('#' + key + ' button');\n",
              "          quickchartButtonEl.disabled = true;  // To prevent multiple clicks.\n",
              "          quickchartButtonEl.classList.add('colab-df-spinner');\n",
              "          try {\n",
              "            const charts = await google.colab.kernel.invokeFunction(\n",
              "                'suggestCharts', [key], {});\n",
              "          } catch (error) {\n",
              "            console.error('Error during call to suggestCharts:', error);\n",
              "          }\n",
              "          quickchartButtonEl.classList.remove('colab-df-spinner');\n",
              "          quickchartButtonEl.classList.add('colab-df-quickchart-complete');\n",
              "        }\n",
              "        (() => {\n",
              "          let quickchartButtonEl =\n",
              "            document.querySelector('#df-717b42b0-b40e-42b4-8c87-530f6888d522 button');\n",
              "          quickchartButtonEl.style.display =\n",
              "            google.colab.kernel.accessAllowed ? 'block' : 'none';\n",
              "        })();\n",
              "      </script>\n",
              "    </div>\n",
              "\n",
              "    </div>\n",
              "  </div>\n"
            ],
            "text/plain": [
              "                     f1_mean    f1_std\n",
              "LogisticRegression  0.834289  0.025947\n",
              "MultinomialNB       0.759709  0.031223\n",
              "RandomForest        0.839930  0.018478\n",
              "XGBoost             0.834038  0.014484"
            ]
          },
          "execution_count": 9,
          "metadata": {},
          "output_type": "execute_result"
        }
      ],
      "source": [
        "results = {}\n",
        "for name, pipe in pipelines.items():\n",
        "    scores = cross_val_score(pipe, X_final, y_final, cv=5, scoring=\"f1\")\n",
        "    results[name] = {\n",
        "        \"f1_mean\": scores.mean(),\n",
        "        \"f1_std\": scores.std()\n",
        "    }\n",
        "\n",
        "pd.DataFrame(results).T\n"
      ]
    },
    {
      "cell_type": "markdown",
      "id": "314ec18c",
      "metadata": {
        "id": "314ec18c"
      },
      "source": [
        "## 7. Best Model: XGBoost Pipeline"
      ]
    },
    {
      "cell_type": "code",
      "execution_count": 10,
      "id": "abd8455c",
      "metadata": {
        "id": "abd8455c"
      },
      "outputs": [],
      "source": [
        "best_pipeline = pipelines[\"XGBoost\"]\n",
        "best_pipeline.fit(X_final, y_final)\n",
        "\n",
        "y_pred = best_pipeline.predict(X_test)\n",
        "y_score = best_pipeline.predict_proba(X_test)[:, 1]\n"
      ]
    },
    {
      "cell_type": "markdown",
      "id": "be1c4d0c",
      "metadata": {
        "id": "be1c4d0c"
      },
      "source": [
        "## 8. Test Set Evaluation"
      ]
    },
    {
      "cell_type": "code",
      "execution_count": 11,
      "id": "50bab576",
      "metadata": {
        "colab": {
          "base_uri": "https://localhost:8080/"
        },
        "id": "50bab576",
        "outputId": "60a87cc7-4ecd-4f47-c2a1-f41f3815c287"
      },
      "outputs": [
        {
          "name": "stdout",
          "output_type": "stream",
          "text": [
            "              precision    recall  f1-score   support\n",
            "\n",
            "           0       0.97      0.90      0.93       680\n",
            "           1       0.78      0.93      0.85       269\n",
            "\n",
            "    accuracy                           0.90       949\n",
            "   macro avg       0.87      0.91      0.89       949\n",
            "weighted avg       0.91      0.90      0.91       949\n",
            "\n"
          ]
        }
      ],
      "source": [
        "print(classification_report(y_test, y_pred))\n"
      ]
    },
    {
      "cell_type": "markdown",
      "id": "90363af4",
      "metadata": {
        "id": "90363af4"
      },
      "source": [
        "## 9. Performance Visualizations"
      ]
    },
    {
      "cell_type": "code",
      "execution_count": 12,
      "id": "de7ca196",
      "metadata": {
        "colab": {
          "base_uri": "https://localhost:8080/",
          "height": 410
        },
        "id": "de7ca196",
        "outputId": "7dca4bf6-1594-47b3-e0c2-3d1002c4a612"
      },
      "outputs": [
        {
          "data": {
            "image/png": "[encoded data removed]",
            "text/plain": [
              "<Figure size 500x400 with 2 Axes>"
            ]
          },
          "metadata": {},
          "output_type": "display_data"
        }
      ],
      "source": [
        "cm = confusion_matrix(y_test, y_pred)\n",
        "plt.figure(figsize=(5,4))\n",
        "sns.heatmap(cm, annot=True, fmt=\"d\", cmap=\"Blues\", xticklabels=[\"Real\", \"Fake\"], yticklabels=[\"Real\", \"Fake\"])\n",
        "plt.xlabel(\"Predicted\")\n",
        "plt.ylabel(\"Actual\")\n",
        "plt.title(\"Confusion Matrix\")\n",
        "plt.show()\n"
      ]
    },
    {
      "cell_type": "markdown",
      "id": "YvNsIIx-h3Rr",
      "metadata": {
        "id": "YvNsIIx-h3Rr"
      },
      "source": [
        "- The confusion matrix shows that the model correctly classified 609 real and 249 fake news samples.\n",
        "- It also made 71 false positives (real predicted as fake) and 20 false negatives (fake predicted as real).\n",
        "- This indicates a relatively balanced performance with more false positives than false negatives, which may be acceptable in safety-critical scenarios.\n"
      ]
    },
    {
      "cell_type": "code",
      "execution_count": 13,
      "id": "5bb0c6f1",
      "metadata": {
        "colab": {
          "base_uri": "https://localhost:8080/",
          "height": 472
        },
        "id": "5bb0c6f1",
        "outputId": "2c6dde6a-333c-4d0b-f6fb-af5d605ad641"
      },
      "outputs": [
        {
          "data": {
            "image/png": "[encoded data removed]",
            "text/plain": [
              "<Figure size 640x480 with 1 Axes>"
            ]
          },
          "metadata": {},
          "output_type": "display_data"
        }
      ],
      "source": [
        "fpr, tpr, _ = roc_curve(y_test, y_score)\n",
        "roc_auc = auc(fpr, tpr)\n",
        "plt.plot(fpr, tpr, label=f\"AUC = {roc_auc:.2f}\")\n",
        "plt.plot([0, 1], [0, 1], linestyle=\"--\")\n",
        "plt.xlabel(\"False Positive Rate\")\n",
        "plt.ylabel(\"True Positive Rate\")\n",
        "plt.title(\"ROC Curve\")\n",
        "plt.legend()\n",
        "plt.grid()\n",
        "plt.show()\n"
      ]
    },
    {
      "cell_type": "markdown",
      "id": "WLwu5bhJh8zj",
      "metadata": {
        "id": "WLwu5bhJh8zj"
      },
      "source": [
        "- The ROC curve illustrates how well the model separates the two classes.\n",
        "- AUC = 0.97 indicates excellent classification capability — the model is very good at distinguishing real from fake news.\n"
      ]
    },
    {
      "cell_type": "code",
      "execution_count": 14,
      "id": "f4c28db3",
      "metadata": {
        "colab": {
          "base_uri": "https://localhost:8080/",
          "height": 472
        },
        "id": "f4c28db3",
        "outputId": "e8606381-62dc-4b01-c44c-ad75cd0f26b0"
      },
      "outputs": [
        {
          "data": {
            "image/png": "[encoded data removed]",
            "text/plain": [
              "<Figure size 640x480 with 1 Axes>"
            ]
          },
          "metadata": {},
          "output_type": "display_data"
        }
      ],
      "source": [
        "precision, recall, _ = precision_recall_curve(y_test, y_score)\n",
        "ap = average_precision_score(y_test, y_score)\n",
        "\n",
        "plt.plot(recall, precision, label=f\"AP = {ap:.2f}\")\n",
        "plt.xlabel(\"Recall\")\n",
        "plt.ylabel(\"Precision\")\n",
        "plt.title(\"Precision-Recall Curve\")\n",
        "plt.legend()\n",
        "plt.grid()\n",
        "plt.show()\n"
      ]
    },
    {
      "cell_type": "markdown",
      "id": "JSIOLXwGiG0R",
      "metadata": {
        "id": "JSIOLXwGiG0R"
      },
      "source": [
        "- This curve is especially important for imbalanced datasets.\n",
        "- The average precision (AP) is 0.91, showing high model reliability when predicting positive (fake) cases.\n"
      ]
    },
    {
      "cell_type": "code",
      "execution_count": 15,
      "id": "d775d8ec",
      "metadata": {
        "colab": {
          "base_uri": "https://localhost:8080/",
          "height": 472
        },
        "id": "d775d8ec",
        "outputId": "22ba468e-43e2-458d-f1c1-1a934389ff08"
      },
      "outputs": [
        {
          "data": {
            "image/png": "[encoded data removed]",
            "text/plain": [
              "<Figure size 640x480 with 1 Axes>"
            ]
          },
          "metadata": {},
          "output_type": "display_data"
        }
      ],
      "source": [
        "thresholds = np.arange(0.1, 0.91, 0.05)\n",
        "precisions = []\n",
        "recalls = []\n",
        "\n",
        "for t in thresholds:\n",
        "    y_thresh = (y_score > t).astype(int)\n",
        "    precisions.append(precision_score(y_test, y_thresh))\n",
        "    recalls.append(recall_score(y_test, y_thresh))\n",
        "\n",
        "plt.plot(thresholds, precisions, label=\"Precision\")\n",
        "plt.plot(thresholds, recalls, label=\"Recall\")\n",
        "plt.xlabel(\"Threshold\")\n",
        "plt.ylabel(\"Score\")\n",
        "plt.title(\"Precision vs Recall by Threshold\")\n",
        "plt.legend()\n",
        "plt.grid()\n",
        "plt.show()\n"
      ]
    },
    {
      "cell_type": "markdown",
      "id": "JsSZHivMiNBR",
      "metadata": {
        "id": "JsSZHivMiNBR"
      },
      "source": [
        "- This plot helps visualize the trade-off between precision and recall when changing the decision threshold.\n",
        "- As the threshold increases, precision improves but recall decreases.\n",
        "- You can choose a threshold that best balances your business goals.\n"
      ]
    }
  ],
  "metadata": {
    "colab": {
      "provenance": []
    },
    "kernelspec": {
      "display_name": "Python 3",
      "name": "python3"
    },
    "language_info": {
      "name": "python"
    }
  },
  "nbformat": 4,
  "nbformat_minor": 5
}
